{
  "nbformat": 4,
  "nbformat_minor": 0,
  "metadata": {
    "colab": {
      "name": "Assignment_5 python basic",
      "provenance": []
    },
    "kernelspec": {
      "name": "python3",
      "display_name": "Python 3"
    },
    "language_info": {
      "name": "python"
    }
  },
  "cells": [
    {
      "cell_type": "markdown",
      "source": [
        "1.What does an empty dictionary's code look like?\n",
        "\n",
        "**Ans:** An empty dictionary is often represented by two empty curly brackets\n",
        "d = {} or d = dict()"
      ],
      "metadata": {
        "id": "LjX01SpR4RTK"
      }
    },
    {
      "cell_type": "markdown",
      "source": [
        "2.what is the value of dictionary value with key 'foo' and the value 42 ?\n",
        "\n",
        "**Ans:** {'foo':42}"
      ],
      "metadata": {
        "id": "-taA0rrM4VJW"
      }
    },
    {
      "cell_type": "markdown",
      "source": [
        "3.What is the most significant distinction between a dictionary and a list?\n",
        "\n",
        "**Ans:** Dictionaries are represented by {} where as listed are represented by []\n",
        "The Items stored in a dictionary are Unordered , while the items in a list are ordered\n",
        "\n"
      ],
      "metadata": {
        "id": "QX_4YvdN4Zl_"
      }
    },
    {
      "cell_type": "markdown",
      "source": [
        "4.What happens if you try to access spam ['foo'] if spam is {'bar':100} ?\n",
        "\n",
        "**Ans:** we will get a keyError KeyError: 'foo'"
      ],
      "metadata": {
        "id": "6NkvhU9P4gSu"
      }
    },
    {
      "cell_type": "markdown",
      "source": [
        "5.if a dictionary is stored in spam,what is the difference between the expressions 'cat' in spam and 'cat' in spam.keys() ?\n",
        "\n",
        "**Ans:** There is no difference . The operator checks whether a value exits as a key in the dictionary or not"
      ],
      "metadata": {
        "id": "xflGogn24kcE"
      }
    },
    {
      "cell_type": "markdown",
      "source": [
        "6.if a dictionary is stored in spam,what is the difference between the expressions 'cat' in spam and 'cat' in spam.values() ?\n",
        "\n",
        "**Ans:**'cat' in spam checks whether there is a 'cat' key in the dictionary, while 'cat' in spam.values() checks whether there is a value 'cat' for one of the keys in spam"
      ],
      "metadata": {
        "id": "VLlNHZsb4ose"
      }
    },
    {
      "cell_type": "markdown",
      "source": [
        "7.what is a shortcut for the following code ?\n",
        "if 'color' not in spam:\n",
        "    spam['color'] ='black'\n",
        "\n",
        "**Ans:** spam.setdefault('color','black')"
      ],
      "metadata": {
        "id": "F6E7Zg1-4t0B"
      }
    },
    {
      "cell_type": "markdown",
      "source": [
        "8.How do you 'pretty print' dictionary values using which modules and function ?\n",
        "\n",
        "**Ans:** we can pretty print a dictionary using three functions\n",
        "\n",
        "by using pprint() function of pprint module\n",
        "Note: pprint() function doesnot prettify nested dictionaries\n",
        "by using dumps() method of json module\n",
        "by using dumps() method of yaml module"
      ],
      "metadata": {
        "id": "bc9Yc-OU4xsn"
      }
    },
    {
      "cell_type": "code",
      "source": [
        "ndict = [\n",
        "  {'Name': 'venkat', 'Age': '26', 'Residence': {'Country':'India', 'City': 'Mumbai'}},\n",
        "  {'Name': 'Mohan', 'Age': '56', 'Residence': {'Country':'India', 'City': 'Hyderabad'}},\n",
        "  {'Name': 'Suuny', 'Age': '21', 'Residence': {'Country':'UK', 'City': 'England'}},\n",
        "  {'Name': 'Krishna', 'Age': '38', 'Residence': {'Country':'US', 'City': 'WDC'}}\n",
        "]\n",
        "\n",
        "print('Printing using print() function\\n',ndict)\n",
        "print('-'*70)\n",
        "import pprint\n",
        "print('Printing using pprint() funciton')\n",
        "pprint.pprint(ndict)\n",
        "print('-'*70)\n",
        "import json\n",
        "dump = json.dumps(ndict, indent=4)\n",
        "print('Printing using dumps() method\\n', dump)\n",
        "print('-'*70)\n",
        "import yaml\n",
        "dump = yaml.dump(ndict)\n",
        "print('Printing using dump() method\\n', dump)"
      ],
      "metadata": {
        "colab": {
          "base_uri": "https://localhost:8080/"
        },
        "id": "GPz0rqzH44CK",
        "outputId": "cf068b39-bdb5-4d3c-8248-51da0c4a73bf"
      },
      "execution_count": 2,
      "outputs": [
        {
          "output_type": "stream",
          "name": "stdout",
          "text": [
            "Printing using print() function\n",
            " [{'Name': 'venkat', 'Age': '26', 'Residence': {'Country': 'India', 'City': 'Mumbai'}}, {'Name': 'Mohan', 'Age': '56', 'Residence': {'Country': 'India', 'City': 'Hyderabad'}}, {'Name': 'Suuny', 'Age': '21', 'Residence': {'Country': 'UK', 'City': 'England'}}, {'Name': 'Krishna', 'Age': '38', 'Residence': {'Country': 'US', 'City': 'WDC'}}]\n",
            "----------------------------------------------------------------------\n",
            "Printing using pprint() funciton\n",
            "[{'Age': '26',\n",
            "  'Name': 'venkat',\n",
            "  'Residence': {'City': 'Mumbai', 'Country': 'India'}},\n",
            " {'Age': '56',\n",
            "  'Name': 'Mohan',\n",
            "  'Residence': {'City': 'Hyderabad', 'Country': 'India'}},\n",
            " {'Age': '21',\n",
            "  'Name': 'Suuny',\n",
            "  'Residence': {'City': 'England', 'Country': 'UK'}},\n",
            " {'Age': '38',\n",
            "  'Name': 'Krishna',\n",
            "  'Residence': {'City': 'WDC', 'Country': 'US'}}]\n",
            "----------------------------------------------------------------------\n",
            "Printing using dumps() method\n",
            " [\n",
            "    {\n",
            "        \"Name\": \"venkat\",\n",
            "        \"Age\": \"26\",\n",
            "        \"Residence\": {\n",
            "            \"Country\": \"India\",\n",
            "            \"City\": \"Mumbai\"\n",
            "        }\n",
            "    },\n",
            "    {\n",
            "        \"Name\": \"Mohan\",\n",
            "        \"Age\": \"56\",\n",
            "        \"Residence\": {\n",
            "            \"Country\": \"India\",\n",
            "            \"City\": \"Hyderabad\"\n",
            "        }\n",
            "    },\n",
            "    {\n",
            "        \"Name\": \"Suuny\",\n",
            "        \"Age\": \"21\",\n",
            "        \"Residence\": {\n",
            "            \"Country\": \"UK\",\n",
            "            \"City\": \"England\"\n",
            "        }\n",
            "    },\n",
            "    {\n",
            "        \"Name\": \"Krishna\",\n",
            "        \"Age\": \"38\",\n",
            "        \"Residence\": {\n",
            "            \"Country\": \"US\",\n",
            "            \"City\": \"WDC\"\n",
            "        }\n",
            "    }\n",
            "]\n",
            "----------------------------------------------------------------------\n",
            "Printing using dump() method\n",
            " - Age: '26'\n",
            "  Name: venkat\n",
            "  Residence: {City: Mumbai, Country: India}\n",
            "- Age: '56'\n",
            "  Name: Mohan\n",
            "  Residence: {City: Hyderabad, Country: India}\n",
            "- Age: '21'\n",
            "  Name: Suuny\n",
            "  Residence: {City: England, Country: UK}\n",
            "- Age: '38'\n",
            "  Name: Krishna\n",
            "  Residence: {City: WDC, Country: US}\n",
            "\n"
          ]
        }
      ]
    }
  ]
}